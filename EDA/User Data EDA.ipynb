{
 "cells": [
  {
   "cell_type": "code",
   "execution_count": 2,
   "metadata": {},
   "outputs": [],
   "source": [
    "import pandas as pd"
   ]
  },
  {
   "cell_type": "code",
   "execution_count": 3,
   "metadata": {},
   "outputs": [],
   "source": [
    "data = pd.read_csv(\"StreamingHistory_Nathan.csv\")"
   ]
  },
  {
   "cell_type": "code",
   "execution_count": 4,
   "metadata": {},
   "outputs": [
    {
     "data": {
      "text/html": [
       "<div>\n",
       "<style scoped>\n",
       "    .dataframe tbody tr th:only-of-type {\n",
       "        vertical-align: middle;\n",
       "    }\n",
       "\n",
       "    .dataframe tbody tr th {\n",
       "        vertical-align: top;\n",
       "    }\n",
       "\n",
       "    .dataframe thead th {\n",
       "        text-align: right;\n",
       "    }\n",
       "</style>\n",
       "<table border=\"1\" class=\"dataframe\">\n",
       "  <thead>\n",
       "    <tr style=\"text-align: right;\">\n",
       "      <th></th>\n",
       "      <th>endTime</th>\n",
       "      <th>artistName</th>\n",
       "      <th>trackName</th>\n",
       "      <th>msPlayed</th>\n",
       "    </tr>\n",
       "  </thead>\n",
       "  <tbody>\n",
       "    <tr>\n",
       "      <th>0</th>\n",
       "      <td>2021-11-20 21:51</td>\n",
       "      <td>Pitbull</td>\n",
       "      <td>Timber (feat. Ke$ha)</td>\n",
       "      <td>204160</td>\n",
       "    </tr>\n",
       "    <tr>\n",
       "      <th>1</th>\n",
       "      <td>2021-11-20 21:55</td>\n",
       "      <td>Jason Derulo</td>\n",
       "      <td>Whatcha Say</td>\n",
       "      <td>221253</td>\n",
       "    </tr>\n",
       "    <tr>\n",
       "      <th>2</th>\n",
       "      <td>2021-11-20 21:59</td>\n",
       "      <td>Coleman Hell</td>\n",
       "      <td>Sitcom</td>\n",
       "      <td>2722</td>\n",
       "    </tr>\n",
       "    <tr>\n",
       "      <th>3</th>\n",
       "      <td>2021-11-20 21:59</td>\n",
       "      <td>Demi Lovato</td>\n",
       "      <td>Heart Attack</td>\n",
       "      <td>210840</td>\n",
       "    </tr>\n",
       "    <tr>\n",
       "      <th>4</th>\n",
       "      <td>2021-11-20 21:59</td>\n",
       "      <td>Capital Cities</td>\n",
       "      <td>Safe And Sound</td>\n",
       "      <td>137</td>\n",
       "    </tr>\n",
       "  </tbody>\n",
       "</table>\n",
       "</div>"
      ],
      "text/plain": [
       "            endTime      artistName             trackName  msPlayed\n",
       "0  2021-11-20 21:51         Pitbull  Timber (feat. Ke$ha)    204160\n",
       "1  2021-11-20 21:55    Jason Derulo           Whatcha Say    221253\n",
       "2  2021-11-20 21:59    Coleman Hell                Sitcom      2722\n",
       "3  2021-11-20 21:59     Demi Lovato          Heart Attack    210840\n",
       "4  2021-11-20 21:59  Capital Cities        Safe And Sound       137"
      ]
     },
     "execution_count": 4,
     "metadata": {},
     "output_type": "execute_result"
    }
   ],
   "source": [
    "data.head()"
   ]
  },
  {
   "cell_type": "code",
   "execution_count": 5,
   "metadata": {},
   "outputs": [
    {
     "data": {
      "text/plain": [
       "artistName\n",
       "Owl City                 39\n",
       "Taylor Swift              5\n",
       "Rixton                    3\n",
       "Clemson RUF Worship       3\n",
       "Demi Lovato               2\n",
       "Lauren Daigle             2\n",
       "Capital Cities            2\n",
       "Francesca Battistelli     2\n",
       "Axwell /\\ Ingrosso        2\n",
       "5 Seconds of Summer       2\n",
       "Name: artistName, dtype: int64"
      ]
     },
     "execution_count": 5,
     "metadata": {},
     "output_type": "execute_result"
    }
   ],
   "source": [
    "data.groupby(by = \"artistName\")['artistName'].count().sort_values(ascending = False).head(10)"
   ]
  },
  {
   "cell_type": "code",
   "execution_count": 7,
   "metadata": {},
   "outputs": [
    {
     "data": {
      "text/plain": [
       "trackName\n",
       "Dreams Don't Turn To Dust    4\n",
       "Honey And The Bee            4\n",
       "Hospital Flowers             3\n",
       "Kamikaze                     3\n",
       "Alligator Sky                3\n",
       "Deer In The Headlights       3\n",
       "Angels                       3\n",
       "Me And My Broken Heart       3\n",
       "Galaxies                     3\n",
       "The Real World               3\n",
       "Name: trackName, dtype: int64"
      ]
     },
     "execution_count": 7,
     "metadata": {},
     "output_type": "execute_result"
    }
   ],
   "source": [
    "data.groupby(by = \"trackName\")['trackName'].count().sort_values(ascending = False).head(10)"
   ]
  },
  {
   "cell_type": "code",
   "execution_count": 8,
   "metadata": {
    "scrolled": true
   },
   "outputs": [
    {
     "data": {
      "text/plain": [
       "68"
      ]
     },
     "execution_count": 8,
     "metadata": {},
     "output_type": "execute_result"
    }
   ],
   "source": [
    "len(data.groupby(by = \"trackName\")['trackName'].unique())"
   ]
  },
  {
   "cell_type": "code",
   "execution_count": 9,
   "metadata": {
    "scrolled": true
   },
   "outputs": [
    {
     "data": {
      "text/plain": [
       "46"
      ]
     },
     "execution_count": 9,
     "metadata": {},
     "output_type": "execute_result"
    }
   ],
   "source": [
    "len(data.groupby(by = \"artistName\")['artistName'].unique())"
   ]
  },
  {
   "cell_type": "code",
   "execution_count": 10,
   "metadata": {},
   "outputs": [],
   "source": [
    "most_played = pd.DataFrame(data.groupby(by = \"trackName\").max()).reset_index()"
   ]
  },
  {
   "cell_type": "code",
   "execution_count": 11,
   "metadata": {},
   "outputs": [
    {
     "data": {
      "text/html": [
       "<div>\n",
       "<style scoped>\n",
       "    .dataframe tbody tr th:only-of-type {\n",
       "        vertical-align: middle;\n",
       "    }\n",
       "\n",
       "    .dataframe tbody tr th {\n",
       "        vertical-align: top;\n",
       "    }\n",
       "\n",
       "    .dataframe thead th {\n",
       "        text-align: right;\n",
       "    }\n",
       "</style>\n",
       "<table border=\"1\" class=\"dataframe\">\n",
       "  <thead>\n",
       "    <tr style=\"text-align: right;\">\n",
       "      <th></th>\n",
       "      <th>trackName</th>\n",
       "      <th>endTime</th>\n",
       "      <th>artistName</th>\n",
       "      <th>msPlayed</th>\n",
       "    </tr>\n",
       "  </thead>\n",
       "  <tbody>\n",
       "    <tr>\n",
       "      <th>8</th>\n",
       "      <td>Best Day Of My Life</td>\n",
       "      <td>2021-12-04 18:24</td>\n",
       "      <td>American Authors</td>\n",
       "      <td>4060</td>\n",
       "    </tr>\n",
       "    <tr>\n",
       "      <th>10</th>\n",
       "      <td>Brave</td>\n",
       "      <td>2022-09-12 18:15</td>\n",
       "      <td>Sara Bareilles</td>\n",
       "      <td>23666</td>\n",
       "    </tr>\n",
       "    <tr>\n",
       "      <th>11</th>\n",
       "      <td>Breath Of Heaven (Mary's Song)</td>\n",
       "      <td>2021-12-04 20:13</td>\n",
       "      <td>Amy Grant</td>\n",
       "      <td>17265</td>\n",
       "    </tr>\n",
       "    <tr>\n",
       "      <th>21</th>\n",
       "      <td>Eve's Lament (Genesis)</td>\n",
       "      <td>2022-03-31 04:56</td>\n",
       "      <td>Caroline Cobb</td>\n",
       "      <td>444</td>\n",
       "    </tr>\n",
       "    <tr>\n",
       "      <th>24</th>\n",
       "      <td>First Song of Isaiah</td>\n",
       "      <td>2022-03-31 04:56</td>\n",
       "      <td>Advent Birmingham</td>\n",
       "      <td>9565</td>\n",
       "    </tr>\n",
       "    <tr>\n",
       "      <th>25</th>\n",
       "      <td>From the Rising of the Sun (Psalm 113)</td>\n",
       "      <td>2022-03-31 04:56</td>\n",
       "      <td>Sandra McCracken</td>\n",
       "      <td>2513</td>\n",
       "    </tr>\n",
       "    <tr>\n",
       "      <th>50</th>\n",
       "      <td>Psalm 32: Blest Is the Man</td>\n",
       "      <td>2022-03-31 04:56</td>\n",
       "      <td>Gregory Wilbur</td>\n",
       "      <td>415</td>\n",
       "    </tr>\n",
       "    <tr>\n",
       "      <th>53</th>\n",
       "      <td>Sitcom</td>\n",
       "      <td>2021-11-20 21:59</td>\n",
       "      <td>Coleman Hell</td>\n",
       "      <td>2722</td>\n",
       "    </tr>\n",
       "    <tr>\n",
       "      <th>66</th>\n",
       "      <td>Your Holy Hill (Psalm 15)</td>\n",
       "      <td>2022-03-31 04:55</td>\n",
       "      <td>My Soul Among Lions, Feat. Corrie Van Dyke</td>\n",
       "      <td>7809</td>\n",
       "    </tr>\n",
       "    <tr>\n",
       "      <th>67</th>\n",
       "      <td>buck</td>\n",
       "      <td>2022-09-12 16:29</td>\n",
       "      <td>nothing,nowhere.</td>\n",
       "      <td>14110</td>\n",
       "    </tr>\n",
       "  </tbody>\n",
       "</table>\n",
       "</div>"
      ],
      "text/plain": [
       "                                 trackName           endTime  \\\n",
       "8                      Best Day Of My Life  2021-12-04 18:24   \n",
       "10                                   Brave  2022-09-12 18:15   \n",
       "11          Breath Of Heaven (Mary's Song)  2021-12-04 20:13   \n",
       "21                  Eve's Lament (Genesis)  2022-03-31 04:56   \n",
       "24                    First Song of Isaiah  2022-03-31 04:56   \n",
       "25  From the Rising of the Sun (Psalm 113)  2022-03-31 04:56   \n",
       "50              Psalm 32: Blest Is the Man  2022-03-31 04:56   \n",
       "53                                  Sitcom  2021-11-20 21:59   \n",
       "66               Your Holy Hill (Psalm 15)  2022-03-31 04:55   \n",
       "67                                    buck  2022-09-12 16:29   \n",
       "\n",
       "                                    artistName  msPlayed  \n",
       "8                             American Authors      4060  \n",
       "10                              Sara Bareilles     23666  \n",
       "11                                   Amy Grant     17265  \n",
       "21                               Caroline Cobb       444  \n",
       "24                           Advent Birmingham      9565  \n",
       "25                            Sandra McCracken      2513  \n",
       "50                              Gregory Wilbur       415  \n",
       "53                                Coleman Hell      2722  \n",
       "66  My Soul Among Lions, Feat. Corrie Van Dyke      7809  \n",
       "67                            nothing,nowhere.     14110  "
      ]
     },
     "execution_count": 11,
     "metadata": {},
     "output_type": "execute_result"
    }
   ],
   "source": [
    "most_played[most_played['msPlayed'] < 30000].head(30)"
   ]
  }
 ],
 "metadata": {
  "kernelspec": {
   "display_name": "Python 3",
   "language": "python",
   "name": "python3"
  },
  "language_info": {
   "codemirror_mode": {
    "name": "ipython",
    "version": 3
   },
   "file_extension": ".py",
   "mimetype": "text/x-python",
   "name": "python",
   "nbconvert_exporter": "python",
   "pygments_lexer": "ipython3",
   "version": "3.8.5"
  }
 },
 "nbformat": 4,
 "nbformat_minor": 4
}
